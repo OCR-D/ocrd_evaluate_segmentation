{
 "cells": [
  {
   "cell_type": "code",
   "execution_count": 5,
   "metadata": {
    "ExecuteTime": {
     "end_time": "2019-09-10T13:43:47.468260Z",
     "start_time": "2019-09-10T13:43:45.836869Z"
    },
    "_cell_guid": "b1076dfc-b9ad-4769-8c92-a6c4dae69d19",
    "_uuid": "8f2839f25d086af736a60e9eeb907d3b93b6e0e5"
   },
   "outputs": [],
   "source": [
    "from IPython.display import JSON\n",
    "from pathlib import PosixPath\n",
    "from tqdm import tqdm_notebook\n",
    "\n",
    "import PIL.ImageDraw\n",
    "from fastai.vision import *\n",
    "\n",
    "INPUT = PosixPath(\"../0bags-crop-sauvola/\")\n",
    "IMGS_SCALED = PosixPath(\"./scaled\")\n",
    "MASKS_SCALED = PosixPath(\"./masks_scaled/\")\n",
    "SCALE_FACTOR = 4\n",
    "\n",
    "for d in [IMGS_SCALED, MASKS_SCALED]:\n",
    "    os.makedirs(d, exist_ok=True)"
   ]
  },
  {
   "cell_type": "markdown",
   "metadata": {},
   "source": [
    "## Look to input files"
   ]
  },
  {
   "cell_type": "code",
   "execution_count": 6,
   "metadata": {
    "ExecuteTime": {
     "end_time": "2019-09-10T13:43:47.477309Z",
     "start_time": "2019-09-10T13:43:47.469408Z"
    }
   },
   "outputs": [
    {
     "data": {
      "text/plain": [
       "[PosixPath('../0bags-crop-sauvola/fontane_brandenburg02_1863_OCR-D-IMG-CROP2_0019.json'),\n",
       " PosixPath('../0bags-crop-sauvola/ranke_paepste03_1836_OCR-D-IMG-CROP2_0018.png'),\n",
       " PosixPath('../0bags-crop-sauvola/ruempler_gartenbau_1882_OCR-D-IMG-CROP2_0014.json'),\n",
       " PosixPath('../0bags-crop-sauvola/steinen_naturvoelker_1894_OCR-D-IMG-CROP2_0005.png'),\n",
       " PosixPath('../0bags-crop-sauvola/goerres_volksbuecher_1807_OCR-D-IMG-CROP2_0012.json')]"
      ]
     },
     "execution_count": 6,
     "metadata": {},
     "output_type": "execute_result"
    }
   ],
   "source": [
    "INPUT.ls()[:5]"
   ]
  },
  {
   "cell_type": "code",
   "execution_count": 7,
   "metadata": {
    "ExecuteTime": {
     "end_time": "2019-09-10T13:43:49.580783Z",
     "start_time": "2019-09-10T13:43:49.493584Z"
    }
   },
   "outputs": [
    {
     "data": {
      "text/html": [
       "<div>\n",
       "<style scoped>\n",
       "    .dataframe tbody tr th:only-of-type {\n",
       "        vertical-align: middle;\n",
       "    }\n",
       "\n",
       "    .dataframe tbody tr th {\n",
       "        vertical-align: top;\n",
       "    }\n",
       "\n",
       "    .dataframe thead th {\n",
       "        text-align: right;\n",
       "    }\n",
       "</style>\n",
       "<table border=\"1\" class=\"dataframe\">\n",
       "  <thead>\n",
       "    <tr style=\"text-align: right;\">\n",
       "      <th></th>\n",
       "      <th>img</th>\n",
       "      <th>bin</th>\n",
       "      <th>ann</th>\n",
       "    </tr>\n",
       "  </thead>\n",
       "  <tbody>\n",
       "    <tr>\n",
       "      <td>0</td>\n",
       "      <td>arent_dichtercharaktere_1885_OCR-D-IMG-CROP2_0002.png</td>\n",
       "      <td>arent_dichtercharaktere_1885_OCR-D-IMG-CROP2_0002.bin.png</td>\n",
       "      <td>arent_dichtercharaktere_1885_OCR-D-IMG-CROP2_0002.json</td>\n",
       "    </tr>\n",
       "    <tr>\n",
       "      <td>1</td>\n",
       "      <td>arent_dichtercharaktere_1885_OCR-D-IMG-CROP2_0003.png</td>\n",
       "      <td>arent_dichtercharaktere_1885_OCR-D-IMG-CROP2_0003.bin.png</td>\n",
       "      <td>arent_dichtercharaktere_1885_OCR-D-IMG-CROP2_0003.json</td>\n",
       "    </tr>\n",
       "    <tr>\n",
       "      <td>2</td>\n",
       "      <td>arent_dichtercharaktere_1885_OCR-D-IMG-CROP2_0004.png</td>\n",
       "      <td>arent_dichtercharaktere_1885_OCR-D-IMG-CROP2_0004.bin.png</td>\n",
       "      <td>arent_dichtercharaktere_1885_OCR-D-IMG-CROP2_0004.json</td>\n",
       "    </tr>\n",
       "    <tr>\n",
       "      <td>3</td>\n",
       "      <td>arnim_wunderhorn03_1808_OCR-D-IMG-CROP2_0001.png</td>\n",
       "      <td>arnim_wunderhorn03_1808_OCR-D-IMG-CROP2_0001.bin.png</td>\n",
       "      <td>arnim_wunderhorn03_1808_OCR-D-IMG-CROP2_0001.json</td>\n",
       "    </tr>\n",
       "    <tr>\n",
       "      <td>4</td>\n",
       "      <td>arnim_wunderhorn03_1808_OCR-D-IMG-CROP2_0002.png</td>\n",
       "      <td>arnim_wunderhorn03_1808_OCR-D-IMG-CROP2_0002.bin.png</td>\n",
       "      <td>arnim_wunderhorn03_1808_OCR-D-IMG-CROP2_0002.json</td>\n",
       "    </tr>\n",
       "  </tbody>\n",
       "</table>\n",
       "</div>"
      ],
      "text/plain": [
       "                                                     img  \\\n",
       "0  arent_dichtercharaktere_1885_OCR-D-IMG-CROP2_0002.png   \n",
       "1  arent_dichtercharaktere_1885_OCR-D-IMG-CROP2_0003.png   \n",
       "2  arent_dichtercharaktere_1885_OCR-D-IMG-CROP2_0004.png   \n",
       "3       arnim_wunderhorn03_1808_OCR-D-IMG-CROP2_0001.png   \n",
       "4       arnim_wunderhorn03_1808_OCR-D-IMG-CROP2_0002.png   \n",
       "\n",
       "                                                         bin  \\\n",
       "0  arent_dichtercharaktere_1885_OCR-D-IMG-CROP2_0002.bin.png   \n",
       "1  arent_dichtercharaktere_1885_OCR-D-IMG-CROP2_0003.bin.png   \n",
       "2  arent_dichtercharaktere_1885_OCR-D-IMG-CROP2_0004.bin.png   \n",
       "3       arnim_wunderhorn03_1808_OCR-D-IMG-CROP2_0001.bin.png   \n",
       "4       arnim_wunderhorn03_1808_OCR-D-IMG-CROP2_0002.bin.png   \n",
       "\n",
       "                                                      ann  \n",
       "0  arent_dichtercharaktere_1885_OCR-D-IMG-CROP2_0002.json  \n",
       "1  arent_dichtercharaktere_1885_OCR-D-IMG-CROP2_0003.json  \n",
       "2  arent_dichtercharaktere_1885_OCR-D-IMG-CROP2_0004.json  \n",
       "3       arnim_wunderhorn03_1808_OCR-D-IMG-CROP2_0001.json  \n",
       "4       arnim_wunderhorn03_1808_OCR-D-IMG-CROP2_0002.json  "
      ]
     },
     "execution_count": 7,
     "metadata": {},
     "output_type": "execute_result"
    }
   ],
   "source": [
    "imgfiles = sorted(f.relative_to(INPUT) for f in INPUT.ls() if re.match(r'[^.]+\\.png$', str(f.relative_to(INPUT))))\n",
    "binfiles = sorted(f.relative_to(INPUT) for f in INPUT.ls() if re.match(r'[^.]+\\.bin\\.png$', str(f.relative_to(INPUT))))\n",
    "annfiles = sorted(f.relative_to(INPUT) for f in INPUT.ls() if re.match(r'[^.]+\\.json$', str(f.relative_to(INPUT))))\n",
    "assert len(imgfiles) == len(binfiles)\n",
    "assert len(imgfiles) == len(annfiles)\n",
    "pd.set_option('max_colwidth', 80)\n",
    "df = pd.DataFrame({'img': imgfiles, 'bin': binfiles, 'ann': annfiles})\n",
    "df.head()"
   ]
  },
  {
   "cell_type": "code",
   "execution_count": 8,
   "metadata": {
    "ExecuteTime": {
     "end_time": "2019-09-10T13:43:50.711946Z",
     "start_time": "2019-09-10T13:43:50.295530Z"
    }
   },
   "outputs": [
    {
     "data": {
      "text/html": [
       "<div>\n",
       "<style scoped>\n",
       "    .dataframe tbody tr th:only-of-type {\n",
       "        vertical-align: middle;\n",
       "    }\n",
       "\n",
       "    .dataframe tbody tr th {\n",
       "        vertical-align: top;\n",
       "    }\n",
       "\n",
       "    .dataframe thead th {\n",
       "        text-align: right;\n",
       "    }\n",
       "</style>\n",
       "<table border=\"1\" class=\"dataframe\">\n",
       "  <thead>\n",
       "    <tr style=\"text-align: right;\">\n",
       "      <th></th>\n",
       "      <th>img</th>\n",
       "      <th>bin</th>\n",
       "      <th>ann</th>\n",
       "      <th>ann_json</th>\n",
       "    </tr>\n",
       "  </thead>\n",
       "  <tbody>\n",
       "    <tr>\n",
       "      <td>0</td>\n",
       "      <td>arent_dichtercharaktere_1885_OCR-D-IMG-CROP2_0002.png</td>\n",
       "      <td>arent_dichtercharaktere_1885_OCR-D-IMG-CROP2_0002.bin.png</td>\n",
       "      <td>arent_dichtercharaktere_1885_OCR-D-IMG-CROP2_0002.json</td>\n",
       "      <td>{'angle': None, 'regions': [{'coords': [[890, 245], [890, 62], [504, 62], [5...</td>\n",
       "    </tr>\n",
       "    <tr>\n",
       "      <td>1</td>\n",
       "      <td>arent_dichtercharaktere_1885_OCR-D-IMG-CROP2_0003.png</td>\n",
       "      <td>arent_dichtercharaktere_1885_OCR-D-IMG-CROP2_0003.bin.png</td>\n",
       "      <td>arent_dichtercharaktere_1885_OCR-D-IMG-CROP2_0003.json</td>\n",
       "      <td>{'angle': None, 'regions': [{'coords': [[1110, 1661], [1110, 1223], [566, 12...</td>\n",
       "    </tr>\n",
       "    <tr>\n",
       "      <td>2</td>\n",
       "      <td>arent_dichtercharaktere_1885_OCR-D-IMG-CROP2_0004.png</td>\n",
       "      <td>arent_dichtercharaktere_1885_OCR-D-IMG-CROP2_0004.bin.png</td>\n",
       "      <td>arent_dichtercharaktere_1885_OCR-D-IMG-CROP2_0004.json</td>\n",
       "      <td>{'angle': None, 'regions': [{'coords': [[1065, 1116], [1065, 922], [319, 922...</td>\n",
       "    </tr>\n",
       "    <tr>\n",
       "      <td>3</td>\n",
       "      <td>arnim_wunderhorn03_1808_OCR-D-IMG-CROP2_0001.png</td>\n",
       "      <td>arnim_wunderhorn03_1808_OCR-D-IMG-CROP2_0001.bin.png</td>\n",
       "      <td>arnim_wunderhorn03_1808_OCR-D-IMG-CROP2_0001.json</td>\n",
       "      <td>{'regions': [{'type': 'text', 'coords': [[574, 126], [574, 52], [449, 52], [...</td>\n",
       "    </tr>\n",
       "    <tr>\n",
       "      <td>4</td>\n",
       "      <td>arnim_wunderhorn03_1808_OCR-D-IMG-CROP2_0002.png</td>\n",
       "      <td>arnim_wunderhorn03_1808_OCR-D-IMG-CROP2_0002.bin.png</td>\n",
       "      <td>arnim_wunderhorn03_1808_OCR-D-IMG-CROP2_0002.json</td>\n",
       "      <td>{'regions': [{'type': 'graphic', 'coords': [[1282, 2253], [1282, 11], [0, 11...</td>\n",
       "    </tr>\n",
       "  </tbody>\n",
       "</table>\n",
       "</div>"
      ],
      "text/plain": [
       "                                                     img  \\\n",
       "0  arent_dichtercharaktere_1885_OCR-D-IMG-CROP2_0002.png   \n",
       "1  arent_dichtercharaktere_1885_OCR-D-IMG-CROP2_0003.png   \n",
       "2  arent_dichtercharaktere_1885_OCR-D-IMG-CROP2_0004.png   \n",
       "3       arnim_wunderhorn03_1808_OCR-D-IMG-CROP2_0001.png   \n",
       "4       arnim_wunderhorn03_1808_OCR-D-IMG-CROP2_0002.png   \n",
       "\n",
       "                                                         bin  \\\n",
       "0  arent_dichtercharaktere_1885_OCR-D-IMG-CROP2_0002.bin.png   \n",
       "1  arent_dichtercharaktere_1885_OCR-D-IMG-CROP2_0003.bin.png   \n",
       "2  arent_dichtercharaktere_1885_OCR-D-IMG-CROP2_0004.bin.png   \n",
       "3       arnim_wunderhorn03_1808_OCR-D-IMG-CROP2_0001.bin.png   \n",
       "4       arnim_wunderhorn03_1808_OCR-D-IMG-CROP2_0002.bin.png   \n",
       "\n",
       "                                                      ann  \\\n",
       "0  arent_dichtercharaktere_1885_OCR-D-IMG-CROP2_0002.json   \n",
       "1  arent_dichtercharaktere_1885_OCR-D-IMG-CROP2_0003.json   \n",
       "2  arent_dichtercharaktere_1885_OCR-D-IMG-CROP2_0004.json   \n",
       "3       arnim_wunderhorn03_1808_OCR-D-IMG-CROP2_0001.json   \n",
       "4       arnim_wunderhorn03_1808_OCR-D-IMG-CROP2_0002.json   \n",
       "\n",
       "                                                                          ann_json  \n",
       "0  {'angle': None, 'regions': [{'coords': [[890, 245], [890, 62], [504, 62], [5...  \n",
       "1  {'angle': None, 'regions': [{'coords': [[1110, 1661], [1110, 1223], [566, 12...  \n",
       "2  {'angle': None, 'regions': [{'coords': [[1065, 1116], [1065, 922], [319, 922...  \n",
       "3  {'regions': [{'type': 'text', 'coords': [[574, 126], [574, 52], [449, 52], [...  \n",
       "4  {'regions': [{'type': 'graphic', 'coords': [[1282, 2253], [1282, 11], [0, 11...  "
      ]
     },
     "execution_count": 8,
     "metadata": {},
     "output_type": "execute_result"
    }
   ],
   "source": [
    "df[\"ann_json\"] = df.ann.apply(lambda f: json.load(open(INPUT / f, \"r\")))\n",
    "df.head()"
   ]
  },
  {
   "cell_type": "code",
   "execution_count": 9,
   "metadata": {
    "ExecuteTime": {
     "end_time": "2019-09-10T13:44:10.704396Z",
     "start_time": "2019-09-10T13:44:10.700272Z"
    }
   },
   "outputs": [
    {
     "data": {
      "text/plain": [
       "{'angle': None,\n",
       " 'regions': [{'coords': [[890, 245], [890, 62], [504, 62], [504, 245]],\n",
       "   'type': 'graphic'},\n",
       "  {'coords': [[1397, 755], [1397, 298], [104, 298], [104, 755]],\n",
       "   'type': 'text'},\n",
       "  {'coords': [[1391, 1288], [1391, 801], [94, 801], [94, 1288]],\n",
       "   'type': 'text'},\n",
       "  {'coords': [[362, 1528], [362, 1775], [1036, 1775], [1036, 1528]],\n",
       "   'type': 'text'},\n",
       "  {'coords': [[1184, 2281], [1184, 2031], [274, 2031], [274, 2281]],\n",
       "   'type': 'text'},\n",
       "  {'coords': [[870, 2454], [870, 2291], [640, 2291], [640, 2454]],\n",
       "   'type': 'noise'},\n",
       "  {'coords': [[831, 1939], [831, 1845], [584, 1845], [584, 1939]],\n",
       "   'type': 'noise'},\n",
       "  {'coords': [[924, 2019], [924, 1958], [434, 1958], [434, 2019]],\n",
       "   'type': 'separator'},\n",
       "  {'coords': [[794, 1477], [794, 1404], [618, 1404], [618, 1477]],\n",
       "   'type': 'separator'}]}"
      ]
     },
     "execution_count": 9,
     "metadata": {},
     "output_type": "execute_result"
    }
   ],
   "source": [
    "ann_json_example = json.load(open(INPUT / annfiles[0], \"r\"))\n",
    "ann_json_example"
   ]
  },
  {
   "cell_type": "code",
   "execution_count": 10,
   "metadata": {
    "ExecuteTime": {
     "end_time": "2019-09-10T13:44:12.857589Z",
     "start_time": "2019-09-10T13:44:12.848655Z"
    }
   },
   "outputs": [
    {
     "data": {
      "text/plain": [
       "{'graphic': 1,\n",
       " 'maths': 2,\n",
       " 'noise': 3,\n",
       " 'separator': 4,\n",
       " 'table': 5,\n",
       " 'text': 6,\n",
       " 'void': 0}"
      ]
     },
     "execution_count": 10,
     "metadata": {},
     "output_type": "execute_result"
    }
   ],
   "source": [
    "segtypes = set()\n",
    "for aj in df.ann_json.to_list():\n",
    "    for region in aj.get(\"regions\", []):\n",
    "        segtypes.add(region[\"type\"])\n",
    "segtypes = dict((v, k) for k, v in enumerate(sorted(segtypes), start=1))\n",
    "segtypes[\"void\"] = 0\n",
    "segtypes"
   ]
  },
  {
   "cell_type": "code",
   "execution_count": 11,
   "metadata": {
    "ExecuteTime": {
     "end_time": "2019-09-10T13:44:19.824253Z",
     "start_time": "2019-09-10T13:44:19.821824Z"
    }
   },
   "outputs": [],
   "source": [
    "PathLike = Union[str, PosixPath]\n",
    "\n",
    "def pathify(p: PathLike) -> PosixPath:\n",
    "    return PosixPath(p) if not type(p) is PosixPath else p "
   ]
  },
  {
   "cell_type": "code",
   "execution_count": 12,
   "metadata": {
    "ExecuteTime": {
     "end_time": "2019-09-10T13:44:20.572750Z",
     "start_time": "2019-09-10T13:44:20.569914Z"
    }
   },
   "outputs": [],
   "source": [
    "def resize_image_(imgpath: PosixPath, orig_folder: PathLike = INPUT, dest_folder: PathLike = IMGS_SCALED, scale = SCALE_FACTOR):\n",
    "    img = open_image(orig_folder / imgpath)\n",
    "    img.resize((img.shape[0], img.shape[1] // scale, img.shape[2] // scale))\n",
    "    img.save(dest_folder / imgpath)\n"
   ]
  },
  {
   "cell_type": "code",
   "execution_count": 13,
   "metadata": {
    "ExecuteTime": {
     "end_time": "2019-09-10T13:46:41.367837Z",
     "start_time": "2019-09-10T13:44:22.088219Z"
    }
   },
   "outputs": [
    {
     "data": {
      "application/vnd.jupyter.widget-view+json": {
       "model_id": "6472dd8f8b4b42a3a496b6f5332e1613",
       "version_major": 2,
       "version_minor": 0
      },
      "text/plain": [
       "HBox(children=(IntProgress(value=0, max=1051), HTML(value='')))"
      ]
     },
     "metadata": {},
     "output_type": "display_data"
    },
    {
     "name": "stdout",
     "output_type": "stream",
     "text": [
      "\n"
     ]
    }
   ],
   "source": [
    "for f in tqdm_notebook(imgfiles):\n",
    "    resize_image_(f)"
   ]
  },
  {
   "cell_type": "code",
   "execution_count": 14,
   "metadata": {
    "ExecuteTime": {
     "end_time": "2019-09-10T13:46:45.409296Z",
     "start_time": "2019-09-10T13:46:45.403313Z"
    }
   },
   "outputs": [],
   "source": [
    "def regions(imgfile: PathLike) -> List[Dict]:\n",
    "    imgfile = pathify(imgfile)\n",
    "    annfile = INPUT / re.sub('\\.png$', '.json', imgfile.name)\n",
    "    ann = json.load(open(annfile, \"r\"))\n",
    "    return ann.get(\"regions\", [])\n",
    "\n",
    "def create_mask_(\n",
    "    imgfile: PathLike,\n",
    "    classes: Dict[str, int], \n",
    "    img_folder: PathLike = INPUT, \n",
    "    mask_folder: PathLike = MASKS_SCALED,\n",
    "    # border: str = \"ArtificialBorder\", border_width: int = 5,  # XXX(js): no idea about a good border_width\n",
    "    downscale: int = SCALE_FACTOR,\n",
    "):\n",
    "    imgfile = pathify(imgfile)\n",
    "    res = PIL.Image.open(img_folder / imgfile.name).size\n",
    "    img = PIL.Image.new(\n",
    "        mode='L',  # only one 8bit channel (we'll encode the segmentation classes each as one byte with a different nr for each class)\n",
    "        size=(res[0] // downscale, res[1] // downscale), \n",
    "        color=0\n",
    "    )\n",
    "    regs = regions(imgfile)\n",
    "    for r in regs:\n",
    "        assert \"coords\" in r\n",
    "        assert \"type\" in r\n",
    "        coords = [(c[0] // downscale, c[1] // downscale) for c in r[\"coords\"]]\n",
    "        PIL.ImageDraw.Draw(img).polygon(coords, fill=classes[r[\"type\"]])\n",
    "        \n",
    "    # Also draw artificial borders but after the filled polygon to not get hidden by any overlapping stuff\n",
    "    # for r in regs:\n",
    "    #    coords = r[\"coords\"]\n",
    "    #    coords += [coords[0], coords[1]]  # necessary to close the lining (it's not autoclosed like for polygonals)\n",
    "    #    PIL.ImageDraw.Draw(img).line(coords, fill=classes[border], width=border_width)\n",
    "    \n",
    "    assert np.max(list(img.getdata())) <= np.max(list(classes.values()))\n",
    "    img.save(mask_folder / imgfile.name)"
   ]
  },
  {
   "cell_type": "code",
   "execution_count": 15,
   "metadata": {
    "ExecuteTime": {
     "end_time": "2019-09-10T14:37:30.242684Z",
     "start_time": "2019-09-10T14:37:13.389006Z"
    }
   },
   "outputs": [
    {
     "data": {
      "application/vnd.jupyter.widget-view+json": {
       "model_id": "50a8a81067244026b403d821f064068a",
       "version_major": 2,
       "version_minor": 0
      },
      "text/plain": [
       "HBox(children=(IntProgress(value=0, max=1051), HTML(value='')))"
      ]
     },
     "metadata": {},
     "output_type": "display_data"
    },
    {
     "name": "stdout",
     "output_type": "stream",
     "text": [
      "\n"
     ]
    }
   ],
   "source": [
    "for f in tqdm_notebook(imgfiles):\n",
    "    create_mask_(f, segtypes)"
   ]
  },
  {
   "cell_type": "code",
   "execution_count": null,
   "metadata": {},
   "outputs": [],
   "source": [
    "RESNET_SIZE = (224, 224)  # that's what resnet is trained for\n",
    "# print(\"Normalize all image with resize to\", RESNET_SIZE)\n",
    "def get_y_fn(imgfile: PathLike) -> PosixPath:\n",
    "    return MASKS_SCALED / imgfile.name\n",
    "\n",
    "def valid_by_book(imgfile: PosixPath, split_pct: float = 0.2) -> bool:\n",
    "    \"\"\" Returns same result for all pages inside a book (given they are in the same folder)\"\"\"\n",
    "    book_name = imgfile.name.split(\"OCR\")[0]  # anything before OCR in \"arent_dichtercharaktere_1885_OCR-D-IMG-CROP2_0002.png\" determines the book the page is from\n",
    "    h = int(hashlib.md5(book_name.encode(\"utf-8\")).hexdigest(), 16)  # little trick to calculate a platform independent hash on the name\n",
    "    return (h % 1e6) / 1e6 < split_pct\n",
    "\n",
    "def create_data(\n",
    "    tfms: List[Transform] = None, \n",
    "    bs: int = 4,  # XXX(js): This batch size is a bit too small for batch normalization, but my GTX 1080 can't fit more atm\n",
    "    sample_p: float = 1.0, split_pct: float = 0.2, split_by_book: bool = False,\n",
    "    seed: int = None\n",
    ") -> ImageDataBunch:\n",
    "    if not tfms: tfms = []\n",
    "    data= (SegmentationItemList\n",
    "        .from_folder(IMGS_SCALED)\n",
    "        .filter_by_rand(sample_p)\n",
    "    )\n",
    "    data = (\n",
    "        data.split_by_valid_func(valid_by_book)\n",
    "        if split_by_book\n",
    "        else data.split_by_rand_pct(valid_pct=split_pct, seed=seed)\n",
    "    )\n",
    "    data = (data\n",
    "        .label_from_func(get_y_fn, classes=list(segtypes.values()))\n",
    "        .transform(tfms, size=RESNET_SIZE, tfm_y=True)\n",
    "        .transform(tfms, tfm_y=True)\n",
    "        .databunch(bs=bs)\n",
    "        .normalize(imagenet_stats)\n",
    "    )\n",
    "    return data\n",
    "\n",
    "data = create_data(seed=1, bs=1)\n",
    "data"
   ]
  },
  {
   "cell_type": "code",
   "execution_count": null,
   "metadata": {},
   "outputs": [],
   "source": [
    "data.items"
   ]
  },
  {
   "cell_type": "code",
   "execution_count": null,
   "metadata": {},
   "outputs": [],
   "source": [
    "data.x[0]"
   ]
  },
  {
   "cell_type": "code",
   "execution_count": null,
   "metadata": {},
   "outputs": [],
   "source": [
    "data.y[0]"
   ]
  },
  {
   "cell_type": "code",
   "execution_count": null,
   "metadata": {},
   "outputs": [],
   "source": [
    "data.show_batch()"
   ]
  },
  {
   "cell_type": "code",
   "execution_count": null,
   "metadata": {},
   "outputs": [],
   "source": [
    "void_code = 0  # I fill image with zeros and we don't want to train this void information\n",
    "def acc_page_seg(input, target):\n",
    "    target = target.squeeze(1)\n",
    "    mask = target != void_code\n",
    "    return (input.argmax(dim=1)[mask]==target[mask]).float().mean()"
   ]
  },
  {
   "cell_type": "code",
   "execution_count": null,
   "metadata": {},
   "outputs": [],
   "source": [
    "tfms = []  # no transformations so far\n",
    "data = create_data(tfms=tfms, split_by_book=True, seed=42, bs=1)  # XXX(js): tried several batch sizes and 8 seems to work good\n",
    "data"
   ]
  },
  {
   "cell_type": "code",
   "execution_count": null,
   "metadata": {},
   "outputs": [],
   "source": [
    "learn = unet_learner(data, models.resnet34, metrics=acc_page_seg)"
   ]
  },
  {
   "cell_type": "code",
   "execution_count": null,
   "metadata": {},
   "outputs": [],
   "source": [
    "learn.fit_one_cycle(4)"
   ]
  },
  {
   "cell_type": "code",
   "execution_count": null,
   "metadata": {},
   "outputs": [],
   "source": [
    "learn.show_results()"
   ]
  },
  {
   "cell_type": "code",
   "execution_count": null,
   "metadata": {},
   "outputs": [],
   "source": [
    "learn.fit_one_cycle(20, max_lr=slice(1e-6, 1e-4))"
   ]
  },
  {
   "cell_type": "code",
   "execution_count": null,
   "metadata": {},
   "outputs": [],
   "source": [
    "learn.save(\"unet-epochs24\")"
   ]
  },
  {
   "cell_type": "code",
   "execution_count": null,
   "metadata": {},
   "outputs": [],
   "source": [
    "learn.show_results()"
   ]
  },
  {
   "cell_type": "code",
   "execution_count": null,
   "metadata": {},
   "outputs": [],
   "source": [
    "learn.fit_one_cycle(25, max_lr=slice(1e-6, 1e-4))"
   ]
  },
  {
   "cell_type": "code",
   "execution_count": null,
   "metadata": {},
   "outputs": [],
   "source": []
  },
  {
   "cell_type": "code",
   "execution_count": null,
   "metadata": {},
   "outputs": [],
   "source": []
  }
 ],
 "metadata": {
  "kernelspec": {
   "display_name": "Python 3",
   "language": "python",
   "name": "python3"
  },
  "language_info": {
   "codemirror_mode": {
    "name": "ipython",
    "version": 3
   },
   "file_extension": ".py",
   "mimetype": "text/x-python",
   "name": "python",
   "nbconvert_exporter": "python",
   "pygments_lexer": "ipython3",
   "version": "3.7.3"
  },
  "toc": {
   "base_numbering": 1,
   "nav_menu": {},
   "number_sections": true,
   "sideBar": true,
   "skip_h1_title": false,
   "title_cell": "Table of Contents",
   "title_sidebar": "Contents",
   "toc_cell": false,
   "toc_position": {},
   "toc_section_display": true,
   "toc_window_display": false
  }
 },
 "nbformat": 4,
 "nbformat_minor": 1
}
